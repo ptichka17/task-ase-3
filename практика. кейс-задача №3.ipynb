{
 "cells": [
  {
   "cell_type": "code",
   "execution_count": 4,
   "id": "559b426d",
   "metadata": {},
   "outputs": [
    {
     "name": "stdout",
     "output_type": "stream",
     "text": [
      "Сумма отрицательных элементов между максимальным и минимальным: 0\n"
     ]
    }
   ],
   "source": [
    "def find_sum_between_max_min(arr):\n",
    "    if not arr:\n",
    "        return 0  \n",
    "    \n",
    "    \n",
    "    max_index = arr.index(max(arr))\n",
    "    min_index = arr.index(min(arr))\n",
    "    \n",
    "   \n",
    "    start = min(max_index, min_index) + 1\n",
    "    end = max(max_index, min_index)\n",
    "    \n",
    "    \n",
    "    negative_sum = sum(x for x in arr[start:end] if x < 0)\n",
    "    \n",
    "    return negative_sum\n",
    "\n",
    "arr = [1, -2, 3, -4, 5, -6, 7]\n",
    "result = find_sum_between_max_min(arr)\n",
    "print(f\"Сумма отрицательных элементов между максимальным и минимальным: {result}\")"
   ]
  }
 ],
 "metadata": {
  "kernelspec": {
   "display_name": "Python 3",
   "language": "python",
   "name": "python3"
  },
  "language_info": {
   "codemirror_mode": {
    "name": "ipython",
    "version": 3
   },
   "file_extension": ".py",
   "mimetype": "text/x-python",
   "name": "python",
   "nbconvert_exporter": "python",
   "pygments_lexer": "ipython3",
   "version": "3.13.5"
  }
 },
 "nbformat": 4,
 "nbformat_minor": 5
}
